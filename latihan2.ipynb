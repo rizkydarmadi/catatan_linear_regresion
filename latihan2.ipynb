{
 "cells": [
  {
   "cell_type": "code",
   "execution_count": 21,
   "metadata": {},
   "outputs": [],
   "source": [
    "# in cm\n",
    "tinggi = [151,174,138,186,128,136,179,163,152,131]\n",
    "berat_badan = [63, 81, 56, 91, 47, 57, 76, 72, 62, 48]"
   ]
  },
  {
   "cell_type": "code",
   "execution_count": 22,
   "metadata": {},
   "outputs": [],
   "source": [
    "mean_x = sum(tinggi)/len(tinggi)\n",
    "mean_y = sum(berat_badan)/len(tinggi)"
   ]
  },
  {
   "cell_type": "markdown",
   "metadata": {},
   "source": [
    "![coeficien_corelation](img/corelation_coefiient.png)"
   ]
  },
  {
   "cell_type": "code",
   "execution_count": 23,
   "metadata": {},
   "outputs": [
    {
     "name": "stdout",
     "output_type": "stream",
     "text": [
      "1.0023751321143246\n"
     ]
    }
   ],
   "source": [
    "a = (tinggi[0]-mean_x)*(berat_badan[0]-mean_y) + (tinggi[-1]-mean_x)*(berat_badan[-1]-mean_y)\n",
    "b = (151-153.3)**2 + (131-153.8)**2\n",
    "c = (63-65.3)**2 + (48 - 65.3)**2\n",
    "d = b * c\n",
    "import math\n",
    "print(a/math.sqrt(d))\n",
    "\n"
   ]
  }
 ],
 "metadata": {
  "interpreter": {
   "hash": "957738a2aee8016b3ea68d8d6a4580d7d9e78f3e33cd5a0d2c493d7b05e772c9"
  },
  "kernelspec": {
   "display_name": "Python 3.8.12 ('env': venv)",
   "language": "python",
   "name": "python3"
  },
  "language_info": {
   "codemirror_mode": {
    "name": "ipython",
    "version": 3
   },
   "file_extension": ".py",
   "mimetype": "text/x-python",
   "name": "python",
   "nbconvert_exporter": "python",
   "pygments_lexer": "ipython3",
   "version": "3.8.12"
  },
  "orig_nbformat": 4
 },
 "nbformat": 4,
 "nbformat_minor": 2
}
