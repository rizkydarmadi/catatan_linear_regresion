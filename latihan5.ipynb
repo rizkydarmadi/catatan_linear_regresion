{
 "cells": [
  {
   "cell_type": "markdown",
   "metadata": {},
   "source": [
    "### import dataset"
   ]
  },
  {
   "cell_type": "code",
   "execution_count": 12,
   "metadata": {},
   "outputs": [
    {
     "data": {
      "text/plain": [
       "[['H1', '8', '7'],\n",
       " ['H2', '2', '3'],\n",
       " ['H3', '6', '7'],\n",
       " ['H4', '9', ''],\n",
       " ['H5', '4', '2'],\n",
       " ['H6', '5', ''],\n",
       " ['H7', '7', '8'],\n",
       " ['H8', '3', '3']]"
      ]
     },
     "execution_count": 12,
     "metadata": {},
     "output_type": "execute_result"
    }
   ],
   "source": [
    "import csv\n",
    "\n",
    "file = open('dataset/data_handpone.csv')\n",
    "type(file)\n",
    "csvreader = csv.reader(file)\n",
    "header = []\n",
    "header = next(csvreader)\n",
    "rows = []\n",
    "for row in csvreader:\n",
    "    rows.append(row)\n",
    "\n",
    "rows"
   ]
  },
  {
   "cell_type": "markdown",
   "metadata": {},
   "source": [
    "### cleansing data"
   ]
  },
  {
   "cell_type": "code",
   "execution_count": 13,
   "metadata": {},
   "outputs": [],
   "source": [
    "data = []\n",
    "for i in rows:\n",
    "    if i[2] == '':\n",
    "        continue\n",
    "    data.append([int(i[1]),int(i[2])])"
   ]
  },
  {
   "cell_type": "markdown",
   "metadata": {},
   "source": [
    "### Dataset visualization"
   ]
  },
  {
   "cell_type": "code",
   "execution_count": 14,
   "metadata": {},
   "outputs": [
    {
     "data": {
      "image/png": "[encoded data removed]",
      "text/plain": [
       "<Figure size 432x288 with 1 Axes>"
      ]
     },
     "metadata": {
      "needs_background": "light"
     },
     "output_type": "display_data"
    }
   ],
   "source": [
    "import matplotlib.pyplot as plt\n",
    "\n",
    "x,y = [],[]\n",
    "for i in data:\n",
    "    x.append(i[0])\n",
    "    y.append(i[1])\n",
    "\n",
    "plt.scatter(x=x,y=y)\n",
    "plt.title(\"generate data\")\n",
    "plt.xlabel(\"Kamera\")\n",
    "plt.ylabel(\"Harga\")\n",
    "plt.show()"
   ]
  },
  {
   "cell_type": "code",
   "execution_count": 15,
   "metadata": {},
   "outputs": [],
   "source": [
    "sigma_x = sum(x)\n",
    "sigma_y = sum(y)\n",
    "sigma_x_pangkat_2 = sum([i**2 for i in x])\n",
    "sigma_y_pangkat_2 = sum([i**2 for i in y])\n",
    "sigma_xy = sum([i[0]*i[1] for i in data])"
   ]
  },
  {
   "cell_type": "code",
   "execution_count": 20,
   "metadata": {},
   "outputs": [
    {
     "name": "stdout",
     "output_type": "stream",
     "text": [
      "jika x nya 9 maka prediksi y nya adalah 8.857142857142858\n"
     ]
    }
   ],
   "source": [
    "from utils.linearRegresion import LinearRegresion\n",
    "\n",
    "a = LinearRegresion.konstanta(sigma_y=sigma_y,sigma_x=sigma_x,len=len(data),sigma_x_pangkat_2=sigma_x_pangkat_2,sigma_xy=sigma_xy)\n",
    "b = LinearRegresion.koefisien_regresi(len=len(data),sigma_xy=sigma_xy,sigma_x=sigma_x,sigma_y=sigma_y,sigma_x_pangkat_2=sigma_x_pangkat_2)\n",
    "\n",
    "LinearRegresion.prediksi(a=a,b=b,x=9)\n",
    "\n"
   ]
  }
 ],
 "metadata": {
  "interpreter": {
   "hash": "957738a2aee8016b3ea68d8d6a4580d7d9e78f3e33cd5a0d2c493d7b05e772c9"
  },
  "kernelspec": {
   "display_name": "Python 3.8.12 ('env': venv)",
   "language": "python",
   "name": "python3"
  },
  "language_info": {
   "codemirror_mode": {
    "name": "ipython",
    "version": 3
   },
   "file_extension": ".py",
   "mimetype": "text/x-python",
   "name": "python",
   "nbconvert_exporter": "python",
   "pygments_lexer": "ipython3",
   "version": "3.8.12"
  },
  "orig_nbformat": 4
 },
 "nbformat": 4,
 "nbformat_minor": 2
}
